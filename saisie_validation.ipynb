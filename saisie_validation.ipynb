{
 "cells": [
  {
   "cell_type": "code",
   "execution_count": 1,
   "metadata": {},
   "outputs": [],
   "source": [
    "import great_expectations as ge\n",
    "import pandas as pd\n",
    "from utils import load_df, merge"
   ]
  },
  {
   "cell_type": "code",
   "execution_count": 2,
   "metadata": {},
   "outputs": [],
   "source": [
    "bbt = load_df(\"budget_budgetbytype\")\n",
    "bt = load_df(\"budget_budgettype\")"
   ]
  },
  {
   "cell_type": "markdown",
   "metadata": {},
   "source": [
    "# Load data"
   ]
  },
  {
   "cell_type": "code",
   "execution_count": 12,
   "metadata": {},
   "outputs": [],
   "source": [
    "expenses = merge(\n",
    "    hierarchy_df=bt,\n",
    "    hierarchy_df_on=\"id\",\n",
    "    values_df=bbt,\n",
    "    values_df_on=\"type_id\",\n",
    "    hierarchy_suffix=\"_bt\",\n",
    "    values_suffix=\"_bbt\",\n",
    "    drop_cols=[\n",
    "        \"description\",\n",
    "        \"description_ar\",\n",
    "        \"description_fr\",\n",
    "        \"description_en\",\n",
    "        \"level\",\n",
    "        \"lft\",\n",
    "        \"name_ar\",\n",
    "        \"name_en\",\n",
    "        \"name_fr\",\n",
    "        \"rght\",\n",
    "        \"tree_id\",\n",
    "        \"id_bt\",\n",
    "    ],\n",
    ")"
   ]
  }
 ],
 "metadata": {
  "jupytext": {
   "formats": "ipynb,py:percent"
  },
  "kernelspec": {
   "display_name": "Python 3",
   "language": "python",
   "name": "python3"
  },
  "language_info": {
   "codemirror_mode": {
    "name": "ipython",
    "version": 3
   },
   "file_extension": ".py",
   "mimetype": "text/x-python",
   "name": "python",
   "nbconvert_exporter": "python",
   "pygments_lexer": "ipython3",
   "version": "3.7.1"
  }
 },
 "nbformat": 4,
 "nbformat_minor": 2
}
