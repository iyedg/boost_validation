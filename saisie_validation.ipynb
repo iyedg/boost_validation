{
 "cells": [
  {
   "cell_type": "code",
   "execution_count": 1,
   "metadata": {},
   "outputs": [],
   "source": [
    "import pandas as pd\n",
    "from itertools import combinations\n",
    "from fuzzywuzzy import fuzz\n",
    "from utils import load_data\n",
    "import utils\n",
    "import numpy as np"
   ]
  },
  {
   "cell_type": "markdown",
   "metadata": {},
   "source": [
    "# Load data"
   ]
  },
  {
   "cell_type": "code",
   "execution_count": 2,
   "metadata": {},
   "outputs": [
    {
     "data": {
      "application/vnd.jupyter.widget-view+json": {
       "model_id": "7476739d07f549acaf0c7249864be755",
       "version_major": 2,
       "version_minor": 0
      },
      "text/plain": [
       "HBox(children=(IntProgress(value=0, max=4), HTML(value='')))"
      ]
     },
     "metadata": {},
     "output_type": "display_data"
    },
    {
     "name": "stdout",
     "output_type": "stream",
     "text": [
      "\n"
     ]
    }
   ],
   "source": [
    "data = load_data()"
   ]
  },
  {
   "cell_type": "code",
   "execution_count": 3,
   "metadata": {},
   "outputs": [],
   "source": [
    "expenses = data[\"expenses\"].pipe(\n",
    "    lambda df: df.assign(\n",
    "        **{\n",
    "            \"parent_name\": df.parent_name.replace(\"^\\s*$\", np.nan, regex=True).str.strip(),\n",
    "            \"budget_type_name\": df[\"budget_type_name\"].replace(\n",
    "                \"^\\s*$\", np.nan, regex=True\n",
    "            ).str.strip(),\n",
    "            \"organization_name\": df[\"organization_name\"].replace(\n",
    "                \"^\\s*$\", np.nan, regex=True\n",
    "            ).str.strip(),\n",
    "            \"value\": pd.to_numeric(df.value, errors=\"coerce\")\n",
    "        }\n",
    "    )\n",
    ")"
   ]
  },
  {
   "cell_type": "markdown",
   "metadata": {},
   "source": [
    "# Expenses"
   ]
  },
  {
   "cell_type": "markdown",
   "metadata": {},
   "source": [
    "## All ministries have top level budget type"
   ]
  },
  {
   "cell_type": "markdown",
   "metadata": {},
   "source": [
    "Check the number of unique ministries per year, compare it to the number of ministries with a top level budget type"
   ]
  },
  {
   "cell_type": "code",
   "execution_count": null,
   "metadata": {
    "lines_to_next_cell": 2,
    "scrolled": true
   },
   "outputs": [],
   "source": [
    "for year in expenses.year.unique():\n",
    "    print(year)\n",
    "    for i in utils.top_level_budget(expenses, year):\n",
    "        if i not in ['الدولة', 'الصندوق العام للتعويـــــض']:\n",
    "            print(i)"
   ]
  },
  {
   "cell_type": "markdown",
   "metadata": {},
   "source": [
    "## Similar but not quite exaclty the same organization names for the same year"
   ]
  },
  {
   "cell_type": "code",
   "execution_count": null,
   "metadata": {},
   "outputs": [],
   "source": [
    "for year in expenses.year.unique():\n",
    "    print(year)\n",
    "    orgs = expenses[expenses.year == year].organization_name.unique()\n",
    "    combs = combinations(orgs, 2)\n",
    "    for comb in combs:\n",
    "        ratio = fuzz.token_set_ratio(*comb)\n",
    "        if 80 < ratio < 100:\n",
    "            print(comb)"
   ]
  },
  {
   "cell_type": "markdown",
   "metadata": {},
   "source": [
    "## State budget must equal the sum of ministries' budgets and state-level expenses"
   ]
  },
  {
   "cell_type": "markdown",
   "metadata": {},
   "source": [
    "For each year, the sum of ministries budgets and نفقات طارئة و غير موزعة and الدين العمومي must equal ميزانية الدولة"
   ]
  },
  {
   "cell_type": "code",
   "execution_count": null,
   "metadata": {},
   "outputs": [],
   "source": [
    "year = 2019"
   ]
  },
  {
   "cell_type": "code",
   "execution_count": null,
   "metadata": {},
   "outputs": [],
   "source": [
    "expenses[\n",
    "    (expenses.year == year)\n",
    "    & (expenses.organization_name == \"الدولة\")\n",
    "    & (expenses.extra == 0)\n",
    "]"
   ]
  },
  {
   "cell_type": "code",
   "execution_count": 5,
   "metadata": {},
   "outputs": [
    {
     "data": {
      "text/html": [
       "<div>\n",
       "<style scoped>\n",
       "    .dataframe tbody tr th:only-of-type {\n",
       "        vertical-align: middle;\n",
       "    }\n",
       "\n",
       "    .dataframe tbody tr th {\n",
       "        vertical-align: top;\n",
       "    }\n",
       "\n",
       "    .dataframe thead th {\n",
       "        text-align: right;\n",
       "    }\n",
       "</style>\n",
       "<table border=\"1\" class=\"dataframe\">\n",
       "  <thead>\n",
       "    <tr style=\"text-align: right;\">\n",
       "      <th></th>\n",
       "      <th></th>\n",
       "      <th>budget_type_name</th>\n",
       "      <th>double</th>\n",
       "      <th>extra</th>\n",
       "      <th>gap</th>\n",
       "      <th>parent_name_typed</th>\n",
       "      <th>value_agg</th>\n",
       "      <th>value_typed</th>\n",
       "    </tr>\n",
       "    <tr>\n",
       "      <th>year</th>\n",
       "      <th>organization_name</th>\n",
       "      <th></th>\n",
       "      <th></th>\n",
       "      <th></th>\n",
       "      <th></th>\n",
       "      <th></th>\n",
       "      <th></th>\n",
       "      <th></th>\n",
       "    </tr>\n",
       "  </thead>\n",
       "  <tbody>\n",
       "    <tr>\n",
       "      <th>2015</th>\n",
       "      <th>وزارة التنمية و التعاون الدولي</th>\n",
       "      <td>التمويل العمومي</td>\n",
       "      <td>1.928</td>\n",
       "      <td>0</td>\n",
       "      <td>-386.006</td>\n",
       "      <td>نفقات التنمية</td>\n",
       "      <td>802.012</td>\n",
       "      <td>416.006</td>\n",
       "    </tr>\n",
       "    <tr>\n",
       "      <th>2016</th>\n",
       "      <th>وزارة الداخلية</th>\n",
       "      <td>التمويل العمومي</td>\n",
       "      <td>3.383</td>\n",
       "      <td>0</td>\n",
       "      <td>-270.000</td>\n",
       "      <td>نفقات التنمية</td>\n",
       "      <td>383.300</td>\n",
       "      <td>113.300</td>\n",
       "    </tr>\n",
       "    <tr>\n",
       "      <th>2019</th>\n",
       "      <th>مجلس نواب الشعب</th>\n",
       "      <td>نفقات التصرف</td>\n",
       "      <td>1.038</td>\n",
       "      <td>0</td>\n",
       "      <td>1.130</td>\n",
       "      <td>NaN</td>\n",
       "      <td>29.793</td>\n",
       "      <td>30.923</td>\n",
       "    </tr>\n",
       "  </tbody>\n",
       "</table>\n",
       "</div>"
      ],
      "text/plain": [
       "                                    budget_type_name  double  extra      gap  \\\n",
       "year organization_name                                                         \n",
       "2015 وزارة التنمية و التعاون الدولي  التمويل العمومي   1.928      0 -386.006   \n",
       "2016 وزارة الداخلية                  التمويل العمومي   3.383      0 -270.000   \n",
       "2019 مجلس نواب الشعب                    نفقات التصرف   1.038      0    1.130   \n",
       "\n",
       "                                    parent_name_typed  value_agg  value_typed  \n",
       "year organization_name                                                         \n",
       "2015 وزارة التنمية و التعاون الدولي     نفقات التنمية    802.012      416.006  \n",
       "2016 وزارة الداخلية                     نفقات التنمية    383.300      113.300  \n",
       "2019 مجلس نواب الشعب                              NaN     29.793       30.923  "
      ]
     },
     "execution_count": 5,
     "metadata": {},
     "output_type": "execute_result"
    }
   ],
   "source": [
    "gap = utils.budget_gap(expenses)\n",
    "gap[(gap.gap != 0) & (gap.double != 2)].set_index([\"year\", \"organization_name\"]).sort_index(axis=1)"
   ]
  },
  {
   "cell_type": "code",
   "execution_count": null,
   "metadata": {},
   "outputs": [],
   "source": [
    "expenses.loc[\n",
    "    (expenses.organization_name.str.strip() == \"مجلس نواب الشعب\")\n",
    "    & (expenses.year == year)\n",
    "    & (expenses.parent_name.str.strip() == \"نفقات التصرف\")\n",
    "]"
   ]
  },
  {
   "cell_type": "markdown",
   "metadata": {},
   "source": [
    "## Compensation"
   ]
  },
  {
   "cell_type": "code",
   "execution_count": null,
   "metadata": {},
   "outputs": [],
   "source": [
    "comp_cols = [\"ministry\", \"budget_type\"]\n",
    "comp_cols.extend(reversed(range(2015, 2020)))  # reversed because rtl\n",
    "converters = {}\n",
    "for year in range(2015, 2020):\n",
    "    converters[year] = pd.to_numeric\n",
    "comp = (\n",
    "    pd.read_excel(\n",
    "        \"data/compensation.xlsx\",\n",
    "        sheet_name=\"الدعم \",\n",
    "        skiprows=1,\n",
    "        nrows=20,\n",
    "        usecols=range(7),\n",
    "        names=comp_cols,\n",
    "        #converters=converters\n",
    "    )\n",
    "    .pipe(lambda df: df.assign(ministry=df.ministry.fillna(method=\"ffill\")))\n",
    "    .pipe(lambda df: df.loc[df.ministry.str.strip() != \"الجملة\"])\n",
    ")"
   ]
  },
  {
   "cell_type": "code",
   "execution_count": null,
   "metadata": {},
   "outputs": [],
   "source": [
    "names = rt.name.unique()\n",
    "#names = bt.name.unique()"
   ]
  },
  {
   "cell_type": "code",
   "execution_count": null,
   "metadata": {},
   "outputs": [],
   "source": [
    "for c in combinations(names, 2):\n",
    "    r = fuzz.token_sort_ratio(*c)\n",
    "    if 90 < r < 100:\n",
    "        print(c)"
   ]
  },
  {
   "cell_type": "code",
   "execution_count": 6,
   "metadata": {},
   "outputs": [],
   "source": [
    "revenues = data[\"revenues\"]"
   ]
  },
  {
   "cell_type": "code",
   "execution_count": 7,
   "metadata": {},
   "outputs": [],
   "source": [
    "summed = (\n",
    "    revenues.groupby([\"year\", \"parent_name\"])\n",
    "    .agg(sum)\n",
    "    .reset_index()\n",
    "    .rename(columns={\"parent_name\": \"name\"})\n",
    ")\n",
    "typed = revenues.loc[\n",
    "    revenues.name.isin(revenues.parent_name), [\"name\", \"year\", \"value\"]\n",
    "]"
   ]
  },
  {
   "cell_type": "code",
   "execution_count": 8,
   "metadata": {},
   "outputs": [],
   "source": [
    "revenues_gap = pd.merge(\n",
    "    summed, typed, on=[\"name\", \"year\"], suffixes=(\"_summed\", \"_typed\")\n",
    ").pipe(lambda df: df.assign(gap=np.round(df.value_typed - df.value_summed, 3)))"
   ]
  },
  {
   "cell_type": "code",
   "execution_count": 9,
   "metadata": {},
   "outputs": [
    {
     "data": {
      "text/html": [
       "<div>\n",
       "<style scoped>\n",
       "    .dataframe tbody tr th:only-of-type {\n",
       "        vertical-align: middle;\n",
       "    }\n",
       "\n",
       "    .dataframe tbody tr th {\n",
       "        vertical-align: top;\n",
       "    }\n",
       "\n",
       "    .dataframe thead th {\n",
       "        text-align: right;\n",
       "    }\n",
       "</style>\n",
       "<table border=\"1\" class=\"dataframe\">\n",
       "  <thead>\n",
       "    <tr style=\"text-align: right;\">\n",
       "      <th></th>\n",
       "      <th>name</th>\n",
       "      <th>parent_name</th>\n",
       "      <th>resource_type_description</th>\n",
       "      <th>type</th>\n",
       "      <th>value</th>\n",
       "      <th>year</th>\n",
       "    </tr>\n",
       "  </thead>\n",
       "  <tbody>\n",
       "    <tr>\n",
       "      <th>422</th>\n",
       "      <td>مداخيل التخصيص</td>\n",
       "      <td>مداخيل غير اعتيادية اخرى</td>\n",
       "      <td>مداخيل التخصيص</td>\n",
       "      <td>95</td>\n",
       "      <td>0.0</td>\n",
       "      <td>2015</td>\n",
       "    </tr>\n",
       "  </tbody>\n",
       "</table>\n",
       "</div>"
      ],
      "text/plain": [
       "               name                parent_name resource_type_description type  \\\n",
       "422  مداخيل التخصيص  مداخيل غير اعتيادية اخرى             مداخيل التخصيص   95   \n",
       "\n",
       "     value  year  \n",
       "422    0.0  2015  "
      ]
     },
     "execution_count": 9,
     "metadata": {},
     "output_type": "execute_result"
    }
   ],
   "source": [
    "revenues.loc[(revenues.parent_name.str.contains(\"مداخيل غير اعتيادية اخرى\")) & (revenues.year == 2015)]"
   ]
  },
  {
   "cell_type": "code",
   "execution_count": 10,
   "metadata": {},
   "outputs": [
    {
     "data": {
      "text/html": [
       "<div>\n",
       "<style scoped>\n",
       "    .dataframe tbody tr th:only-of-type {\n",
       "        vertical-align: middle;\n",
       "    }\n",
       "\n",
       "    .dataframe tbody tr th {\n",
       "        vertical-align: top;\n",
       "    }\n",
       "\n",
       "    .dataframe thead th {\n",
       "        text-align: right;\n",
       "    }\n",
       "</style>\n",
       "<table border=\"1\" class=\"dataframe\">\n",
       "  <thead>\n",
       "    <tr style=\"text-align: right;\">\n",
       "      <th></th>\n",
       "      <th>name</th>\n",
       "      <th>value_summed</th>\n",
       "      <th>value_typed</th>\n",
       "      <th>gap</th>\n",
       "    </tr>\n",
       "    <tr>\n",
       "      <th>year</th>\n",
       "      <th></th>\n",
       "      <th></th>\n",
       "      <th></th>\n",
       "      <th></th>\n",
       "    </tr>\n",
       "  </thead>\n",
       "  <tbody>\n",
       "    <tr>\n",
       "      <th>2015</th>\n",
       "      <td>مداخيل أملاك الدولة الاعتيادية</td>\n",
       "      <td>301.5</td>\n",
       "      <td>501.5</td>\n",
       "      <td>200.0</td>\n",
       "    </tr>\n",
       "    <tr>\n",
       "      <th>2015</th>\n",
       "      <td>مداخيل غير اعتيادية اخرى</td>\n",
       "      <td>0.0</td>\n",
       "      <td>211.0</td>\n",
       "      <td>211.0</td>\n",
       "    </tr>\n",
       "    <tr>\n",
       "      <th>2016</th>\n",
       "      <td>الضريبة على دخل الأشخاص الطبيعين و الضريبة على...</td>\n",
       "      <td>1094.0</td>\n",
       "      <td>1103.0</td>\n",
       "      <td>9.0</td>\n",
       "    </tr>\n",
       "    <tr>\n",
       "      <th>2016</th>\n",
       "      <td>الضريبة على دخل الأشخاص الطبيعيين و الضريبة عل...</td>\n",
       "      <td>1195.0</td>\n",
       "      <td>1530.0</td>\n",
       "      <td>335.0</td>\n",
       "    </tr>\n",
       "    <tr>\n",
       "      <th>2016</th>\n",
       "      <td>المداخيل الجبائية الاعتيادية</td>\n",
       "      <td>11209.2</td>\n",
       "      <td>19987.2</td>\n",
       "      <td>8778.0</td>\n",
       "    </tr>\n",
       "    <tr>\n",
       "      <th>2016</th>\n",
       "      <td>مداخيل غير اعتيادية اخرى</td>\n",
       "      <td>0.0</td>\n",
       "      <td>350.0</td>\n",
       "      <td>350.0</td>\n",
       "    </tr>\n",
       "    <tr>\n",
       "      <th>2017</th>\n",
       "      <td>مداخيل غير اعتيادية اخرى</td>\n",
       "      <td>200.0</td>\n",
       "      <td>450.0</td>\n",
       "      <td>250.0</td>\n",
       "    </tr>\n",
       "    <tr>\n",
       "      <th>2018</th>\n",
       "      <td>المداخيل الجبائية الاعتيادية</td>\n",
       "      <td>14462.2</td>\n",
       "      <td>22847.2</td>\n",
       "      <td>8385.0</td>\n",
       "    </tr>\n",
       "    <tr>\n",
       "      <th>2018</th>\n",
       "      <td>المداخيل غير الجبائية الاعتيادية</td>\n",
       "      <td>946.0</td>\n",
       "      <td>1756.0</td>\n",
       "      <td>810.0</td>\n",
       "    </tr>\n",
       "    <tr>\n",
       "      <th>2018</th>\n",
       "      <td>مداخيل غير اعتيادية اخرى</td>\n",
       "      <td>500.0</td>\n",
       "      <td>865.0</td>\n",
       "      <td>365.0</td>\n",
       "    </tr>\n",
       "    <tr>\n",
       "      <th>2019</th>\n",
       "      <td>مداخيل غير اعتيادية اخرى</td>\n",
       "      <td>390.0</td>\n",
       "      <td>540.0</td>\n",
       "      <td>150.0</td>\n",
       "    </tr>\n",
       "  </tbody>\n",
       "</table>\n",
       "</div>"
      ],
      "text/plain": [
       "                                                   name  value_summed  \\\n",
       "year                                                                    \n",
       "2015                    مداخيل أملاك الدولة الاعتيادية          301.5   \n",
       "2015                          مداخيل غير اعتيادية اخرى            0.0   \n",
       "2016  الضريبة على دخل الأشخاص الطبيعين و الضريبة على...        1094.0   \n",
       "2016  الضريبة على دخل الأشخاص الطبيعيين و الضريبة عل...        1195.0   \n",
       "2016                      المداخيل الجبائية الاعتيادية        11209.2   \n",
       "2016                          مداخيل غير اعتيادية اخرى            0.0   \n",
       "2017                          مداخيل غير اعتيادية اخرى          200.0   \n",
       "2018                      المداخيل الجبائية الاعتيادية        14462.2   \n",
       "2018                  المداخيل غير الجبائية الاعتيادية          946.0   \n",
       "2018                          مداخيل غير اعتيادية اخرى          500.0   \n",
       "2019                          مداخيل غير اعتيادية اخرى          390.0   \n",
       "\n",
       "      value_typed     gap  \n",
       "year                       \n",
       "2015        501.5   200.0  \n",
       "2015        211.0   211.0  \n",
       "2016       1103.0     9.0  \n",
       "2016       1530.0   335.0  \n",
       "2016      19987.2  8778.0  \n",
       "2016        350.0   350.0  \n",
       "2017        450.0   250.0  \n",
       "2018      22847.2  8385.0  \n",
       "2018       1756.0   810.0  \n",
       "2018        865.0   365.0  \n",
       "2019        540.0   150.0  "
      ]
     },
     "execution_count": 10,
     "metadata": {},
     "output_type": "execute_result"
    }
   ],
   "source": [
    "revenues_gap.pipe(lambda df: df.loc[df.gap != 0]).sort_values(\n",
    "    [\"year\", \"name\", \"value_typed\"]\n",
    ").set_index(\"year\")"
   ]
  },
  {
   "cell_type": "markdown",
   "metadata": {},
   "source": [
    "## Generate Opend data files"
   ]
  },
  {
   "cell_type": "code",
   "execution_count": null,
   "metadata": {},
   "outputs": [],
   "source": [
    "for year in expenses.year.unique():\n",
    "    for organization in expenses.loc[\n",
    "        expenses.year == year, \"organization_name\"\n",
    "    ].unique():\n",
    "        res_df = expenses[\n",
    "            (expenses.year == year) & (expenses.organization_name == organization)\n",
    "        ]\n",
    "        res_df.to_csv(\n",
    "            \"data/open/{}_{}.csv\".format(organization.strip().replace(\" \", \"_\"), year),\n",
    "            index=False\n",
    "        )\n",
    "        res_df.to_json(\n",
    "            \"data/open/{}_{}.json\".format(organization.strip().replace(\" \", \"_\"), year),\n",
    "            index=False,\n",
    "            orient=\"table\",\n",
    "        )"
   ]
  },
  {
   "cell_type": "markdown",
   "metadata": {},
   "source": [
    "## Pseudo names generation\n",
    "For each one of these:\n",
    "\n",
    "* Duplicate them to match the number of their possible parents\n",
    "* Add a suffix with their parent name for each entry\n",
    "* Use them in budget_by_type"
   ]
  },
  {
   "cell_type": "code",
   "execution_count": null,
   "metadata": {},
   "outputs": [],
   "source": [
    "expenses = data[\"expenses\"].pipe(\n",
    "    lambda df: df.assign(parent_name=df.parent_name.replace(\"\", np.nan))\n",
    ")\n",
    "expenses.loc[expenses.parent_name.isnull(), \"budget_type_name\"].unique()"
   ]
  }
 ],
 "metadata": {
  "jupytext": {
   "formats": "ipynb,py:percent"
  },
  "kernelspec": {
   "display_name": "Python [conda env:validation] *",
   "language": "python",
   "name": "conda-env-validation-py"
  },
  "language_info": {
   "codemirror_mode": {
    "name": "ipython",
    "version": 3
   },
   "file_extension": ".py",
   "mimetype": "text/x-python",
   "name": "python",
   "nbconvert_exporter": "python",
   "pygments_lexer": "ipython3",
   "version": "3.7.1"
  }
 },
 "nbformat": 4,
 "nbformat_minor": 2
}
