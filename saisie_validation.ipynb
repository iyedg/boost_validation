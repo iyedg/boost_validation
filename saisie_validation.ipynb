{
 "cells": [
  {
   "cell_type": "code",
   "execution_count": 1,
   "metadata": {},
   "outputs": [],
   "source": [
    "import great_expectations as ge\n",
    "import pandas as pd\n",
    "import utils\n",
    "import yattag\n",
    "import ipywidgets as widgets"
   ]
  },
  {
   "cell_type": "markdown",
   "metadata": {},
   "source": [
    "# Load data"
   ]
  },
  {
   "cell_type": "code",
   "execution_count": 2,
   "metadata": {},
   "outputs": [],
   "source": [
    "bbt = utils.load_sheet(\"budget_by_type\")\n",
    "bt = utils.load_sheet(\"budget_type\")\n",
    "rt = utils.load_sheet(\"resource_type\")\n",
    "rbt = utils.load_sheet(\"resource\")"
   ]
  },
  {
   "cell_type": "code",
   "execution_count": 3,
   "metadata": {},
   "outputs": [],
   "source": [
    "expenses = utils.merge(\n",
    "    hierarchy_df=bt,\n",
    "    hierarchy_df_on=\"id\",\n",
    "    values_df=bbt,\n",
    "    values_df_on=\"type\",\n",
    "    hierarchy_suffix=\"_bt\",\n",
    "    values_suffix=\"_bbt\",\n",
    "    drop_cols=[\n",
    "        \"name_fr\",\n",
    "        \"name_en\",\n",
    "        \"name_ar\",\n",
    "        \"name\",\n",
    "        \"description\",\n",
    "        \"id_bt\",\n",
    "        \"parent_id\",\n",
    "        \"type\",\n",
    "        \"id_bbt\",\n",
    "        \"organization\",\n",
    "    ],\n",
    ")\n",
    "revenues = utils.merge(\n",
    "    hierarchy_df=rt,\n",
    "    hierarchy_df_on=\"id\",\n",
    "    values_df=rbt,\n",
    "    values_df_on=\"type\",\n",
    "    hierarchy_suffix=\"_rt\",\n",
    "    values_suffix=\"_rbt\",\n",
    "    drop_cols=[\n",
    "        \"name_fr\",\n",
    "        \"name_en\",\n",
    "        \"name_ar\",\n",
    "        \"description\",\n",
    "        \"description_fr\",\n",
    "        \"description_ar\",\n",
    "        \"description_en\",\n",
    "        \"level\",\n",
    "        \"id_rt\",\n",
    "        \"parent_id\",\n",
    "        \"id_rbt\",\n",
    "    ],\n",
    ")"
   ]
  },
  {
   "cell_type": "markdown",
   "metadata": {},
   "source": [
    "# Expenses"
   ]
  },
  {
   "cell_type": "markdown",
   "metadata": {},
   "source": [
    "## All ministries have top level budget type"
   ]
  },
  {
   "cell_type": "markdown",
   "metadata": {},
   "source": [
    "Check the number of unique ministries per year, compare it to the number of ministries with a top level budget type"
   ]
  },
  {
   "cell_type": "code",
   "execution_count": 9,
   "metadata": {
    "lines_to_next_cell": 2,
    "scrolled": true
   },
   "outputs": [
    {
     "name": "stdout",
     "output_type": "stream",
     "text": [
      "2015\n",
      "وزارة التكوين المهني و التشغيل\n",
      "2016\n",
      "2017\n",
      "وزارة المرأة و الأسرة و الطفولة\n",
      "2018\n",
      "وزارة الشؤون الإجتماعية\n",
      "2019\n"
     ]
    }
   ],
   "source": [
    "for year in expenses.year.unique():\n",
    "    print(year)\n",
    "    for i in utils.top_level_budget(expenses, year):\n",
    "        if i not in ['الدولة', 'الصندوق العام للتعويـــــض']:\n",
    "            print(i)"
   ]
  },
  {
   "cell_type": "markdown",
   "metadata": {},
   "source": [
    "## State budget must equal the sum of ministries' budgets and state-level expenses"
   ]
  },
  {
   "cell_type": "markdown",
   "metadata": {},
   "source": [
    "For each year, the sum of ministries budgets and نفقات طارئة و غير موزعة and الدين العمومي must equal ميزانية الدولة"
   ]
  },
  {
   "cell_type": "code",
   "execution_count": null,
   "metadata": {},
   "outputs": [],
   "source": [
    "utils.summed_state_budget(expenses, 2019)"
   ]
  },
  {
   "cell_type": "code",
   "execution_count": null,
   "metadata": {},
   "outputs": [],
   "source": [
    "utils.state_budget(expenses, 2019)"
   ]
  },
  {
   "cell_type": "code",
   "execution_count": null,
   "metadata": {},
   "outputs": [],
   "source": [
    "expenses[(expenses.year == 2015) & (expenses.organization_name == \"الدولة\")]"
   ]
  },
  {
   "cell_type": "code",
   "execution_count": 11,
   "metadata": {},
   "outputs": [],
   "source": [
    "gap = utils.budget_gap(expenses)\n",
    "res = gap[(gap.gap != 0) & (gap.double != 2)].set_index([\"year\", \"organization_name\"])"
   ]
  },
  {
   "cell_type": "code",
   "execution_count": 12,
   "metadata": {},
   "outputs": [
    {
     "data": {
      "text/html": [
       "<div>\n",
       "<style scoped>\n",
       "    .dataframe tbody tr th:only-of-type {\n",
       "        vertical-align: middle;\n",
       "    }\n",
       "\n",
       "    .dataframe tbody tr th {\n",
       "        vertical-align: top;\n",
       "    }\n",
       "\n",
       "    .dataframe thead th {\n",
       "        text-align: right;\n",
       "    }\n",
       "</style>\n",
       "<table border=\"1\" class=\"dataframe\">\n",
       "  <thead>\n",
       "    <tr style=\"text-align: right;\">\n",
       "      <th></th>\n",
       "      <th></th>\n",
       "      <th>extra</th>\n",
       "      <th>value_agg</th>\n",
       "      <th>parent_name_typed</th>\n",
       "      <th>value_typed</th>\n",
       "      <th>budget_type_name</th>\n",
       "      <th>gap</th>\n",
       "      <th>double</th>\n",
       "    </tr>\n",
       "    <tr>\n",
       "      <th>year</th>\n",
       "      <th>organization_name</th>\n",
       "      <th></th>\n",
       "      <th></th>\n",
       "      <th></th>\n",
       "      <th></th>\n",
       "      <th></th>\n",
       "      <th></th>\n",
       "      <th></th>\n",
       "    </tr>\n",
       "  </thead>\n",
       "  <tbody>\n",
       "    <tr>\n",
       "      <th rowspan=\"2\" valign=\"top\">2015</th>\n",
       "      <th>وزارة التشغيل و التكوين المهني</th>\n",
       "      <td>0</td>\n",
       "      <td>14.900</td>\n",
       "      <td>NaN</td>\n",
       "      <td>16.570</td>\n",
       "      <td>نفقات التنمية</td>\n",
       "      <td>1.670</td>\n",
       "      <td>1.112</td>\n",
       "    </tr>\n",
       "    <tr>\n",
       "      <th>وزارة التنمية و التعاون الدولي</th>\n",
       "      <td>0</td>\n",
       "      <td>802.012</td>\n",
       "      <td>نفقات التنمية</td>\n",
       "      <td>416.006</td>\n",
       "      <td>التمويل العمومي</td>\n",
       "      <td>-386.006</td>\n",
       "      <td>1.928</td>\n",
       "    </tr>\n",
       "    <tr>\n",
       "      <th rowspan=\"2\" valign=\"top\">2016</th>\n",
       "      <th>وزارة الداخلية</th>\n",
       "      <td>0</td>\n",
       "      <td>383.300</td>\n",
       "      <td>نفقات التنمية</td>\n",
       "      <td>113.300</td>\n",
       "      <td>التمويل العمومي</td>\n",
       "      <td>-270.000</td>\n",
       "      <td>3.383</td>\n",
       "    </tr>\n",
       "    <tr>\n",
       "      <th>وزارة العدل</th>\n",
       "      <td>0</td>\n",
       "      <td>432.352</td>\n",
       "      <td>NaN</td>\n",
       "      <td>432.379</td>\n",
       "      <td>نفقات التصرف</td>\n",
       "      <td>0.027</td>\n",
       "      <td>1.000</td>\n",
       "    </tr>\n",
       "    <tr>\n",
       "      <th rowspan=\"6\" valign=\"top\">2018</th>\n",
       "      <th>رئاسة الحكومة</th>\n",
       "      <td>0</td>\n",
       "      <td>157.881</td>\n",
       "      <td>NaN</td>\n",
       "      <td>157.872</td>\n",
       "      <td>نفقات التصرف</td>\n",
       "      <td>-0.009</td>\n",
       "      <td>1.000</td>\n",
       "    </tr>\n",
       "    <tr>\n",
       "      <th>هيئة الحقيقة والكرامة</th>\n",
       "      <td>0</td>\n",
       "      <td>0.000</td>\n",
       "      <td>نفقات التنمية</td>\n",
       "      <td>NaN</td>\n",
       "      <td>الاسنثمارات المباشرة</td>\n",
       "      <td>NaN</td>\n",
       "      <td>NaN</td>\n",
       "    </tr>\n",
       "    <tr>\n",
       "      <th>هيئة الحقيقة والكرامة</th>\n",
       "      <td>0</td>\n",
       "      <td>0.000</td>\n",
       "      <td>نفقات التنمية</td>\n",
       "      <td>NaN</td>\n",
       "      <td>التمويل العمومي</td>\n",
       "      <td>NaN</td>\n",
       "      <td>NaN</td>\n",
       "    </tr>\n",
       "    <tr>\n",
       "      <th>هيئة الحقيقة والكرامة</th>\n",
       "      <td>0</td>\n",
       "      <td>0.000</td>\n",
       "      <td>NaN</td>\n",
       "      <td>NaN</td>\n",
       "      <td>نفقات التنمية</td>\n",
       "      <td>NaN</td>\n",
       "      <td>NaN</td>\n",
       "    </tr>\n",
       "    <tr>\n",
       "      <th>وزارة الشؤون الاجتماعية</th>\n",
       "      <td>0</td>\n",
       "      <td>1138.193</td>\n",
       "      <td>NaN</td>\n",
       "      <td>1298.364</td>\n",
       "      <td>نفقات التصرف</td>\n",
       "      <td>160.171</td>\n",
       "      <td>1.141</td>\n",
       "    </tr>\n",
       "    <tr>\n",
       "      <th>وزارة الشؤون الاجتماعية</th>\n",
       "      <td>0</td>\n",
       "      <td>41.565</td>\n",
       "      <td>NaN</td>\n",
       "      <td>50.000</td>\n",
       "      <td>نفقات التنمية</td>\n",
       "      <td>8.435</td>\n",
       "      <td>1.203</td>\n",
       "    </tr>\n",
       "    <tr>\n",
       "      <th>2019</th>\n",
       "      <th>مجلس نواب الشعب</th>\n",
       "      <td>0</td>\n",
       "      <td>30.793</td>\n",
       "      <td>NaN</td>\n",
       "      <td>31.923</td>\n",
       "      <td>نفقات التصرف</td>\n",
       "      <td>1.130</td>\n",
       "      <td>1.037</td>\n",
       "    </tr>\n",
       "  </tbody>\n",
       "</table>\n",
       "</div>"
      ],
      "text/plain": [
       "                                     extra  value_agg parent_name_typed  \\\n",
       "year organization_name                                                    \n",
       "2015 وزارة التشغيل و التكوين المهني      0     14.900               NaN   \n",
       "     وزارة التنمية و التعاون الدولي      0    802.012    نفقات التنمية    \n",
       "2016 وزارة الداخلية                      0    383.300    نفقات التنمية    \n",
       "     وزارة العدل                         0    432.352               NaN   \n",
       "2018 رئاسة الحكومة                       0    157.881               NaN   \n",
       "     هيئة الحقيقة والكرامة               0      0.000    نفقات التنمية    \n",
       "     هيئة الحقيقة والكرامة               0      0.000    نفقات التنمية    \n",
       "     هيئة الحقيقة والكرامة               0      0.000               NaN   \n",
       "     وزارة الشؤون الاجتماعية             0   1138.193               NaN   \n",
       "     وزارة الشؤون الاجتماعية             0     41.565               NaN   \n",
       "2019 مجلس نواب الشعب                     0     30.793               NaN   \n",
       "\n",
       "                                     value_typed       budget_type_name  \\\n",
       "year organization_name                                                    \n",
       "2015 وزارة التشغيل و التكوين المهني       16.570         نفقات التنمية    \n",
       "     وزارة التنمية و التعاون الدولي      416.006        التمويل العمومي   \n",
       "2016 وزارة الداخلية                      113.300        التمويل العمومي   \n",
       "     وزارة العدل                         432.379           نفقات التصرف   \n",
       "2018 رئاسة الحكومة                       157.872           نفقات التصرف   \n",
       "     هيئة الحقيقة والكرامة                   NaN  الاسنثمارات المباشرة    \n",
       "     هيئة الحقيقة والكرامة                   NaN        التمويل العمومي   \n",
       "     هيئة الحقيقة والكرامة                   NaN         نفقات التنمية    \n",
       "     وزارة الشؤون الاجتماعية            1298.364           نفقات التصرف   \n",
       "     وزارة الشؤون الاجتماعية              50.000         نفقات التنمية    \n",
       "2019 مجلس نواب الشعب                      31.923           نفقات التصرف   \n",
       "\n",
       "                                         gap  double  \n",
       "year organization_name                                \n",
       "2015 وزارة التشغيل و التكوين المهني    1.670   1.112  \n",
       "     وزارة التنمية و التعاون الدولي -386.006   1.928  \n",
       "2016 وزارة الداخلية                 -270.000   3.383  \n",
       "     وزارة العدل                       0.027   1.000  \n",
       "2018 رئاسة الحكومة                    -0.009   1.000  \n",
       "     هيئة الحقيقة والكرامة               NaN     NaN  \n",
       "     هيئة الحقيقة والكرامة               NaN     NaN  \n",
       "     هيئة الحقيقة والكرامة               NaN     NaN  \n",
       "     وزارة الشؤون الاجتماعية         160.171   1.141  \n",
       "     وزارة الشؤون الاجتماعية           8.435   1.203  \n",
       "2019 مجلس نواب الشعب                   1.130   1.037  "
      ]
     },
     "execution_count": 12,
     "metadata": {},
     "output_type": "execute_result"
    }
   ],
   "source": [
    "res"
   ]
  },
  {
   "cell_type": "code",
   "execution_count": null,
   "metadata": {},
   "outputs": [],
   "source": []
  }
 ],
 "metadata": {
  "jupytext": {
   "formats": "ipynb,py:percent"
  },
  "kernelspec": {
   "display_name": "Python 3",
   "language": "python",
   "name": "python3"
  },
  "language_info": {
   "codemirror_mode": {
    "name": "ipython",
    "version": 3
   },
   "file_extension": ".py",
   "mimetype": "text/x-python",
   "name": "python",
   "nbconvert_exporter": "python",
   "pygments_lexer": "ipython3",
   "version": "3.7.1"
  }
 },
 "nbformat": 4,
 "nbformat_minor": 2
}
